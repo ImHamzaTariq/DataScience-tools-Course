{
 "cells": [
  {
   "cell_type": "markdown",
   "id": "1c0599c9-cfe4-434e-aeb8-bc1c60e4332f",
   "metadata": {},
   "source": [
    "\n",
    "# Data Science Tools and Ecosystem"
   ]
  },
  {
   "cell_type": "markdown",
   "id": "3596787d-f9d0-4de9-944d-b2e7e43753ef",
   "metadata": {},
   "source": [
    "# Introduction\n",
    "In this notebook, DataScience tools and Ecosystem are summarized"
   ]
  },
  {
   "cell_type": "markdown",
   "id": "5ddf763b-e8e8-4850-8489-6e0266ece873",
   "metadata": {},
   "source": [
    "**Objectives :**\n",
    "- List Popular Languages for Data Science\n",
    "- List popular free environments for data scientist\n",
    "- List popular Libraries used by data scientists\n",
    "- Performing Arthimetic Expression\n",
    "  "
   ]
  },
  {
   "cell_type": "markdown",
   "id": "642b2565-2387-4700-ac0a-a898331ef977",
   "metadata": {},
   "source": [
    "Some of the popular languages Data Scientist uses are \n",
    "1. Python\n",
    "2. R\n",
    "3. SQL"
   ]
  },
  {
   "cell_type": "markdown",
   "id": "c326e25f-7faf-47e3-b793-95b19ed4b324",
   "metadata": {},
   "source": [
    "Some of the most common libraries data scientist uses\n",
    "1. GGplot\n",
    "2. Panda\n",
    "3. NumPy\n",
    "4. seaborn\n",
    "5. keras"
   ]
  },
  {
   "cell_type": "markdown",
   "id": "6ae2a5cf-da9d-461e-882c-79963073143e",
   "metadata": {},
   "source": [
    "| Data Science Tools      |\n",
    "|-------------------------|\n",
    "| Jupyter Notebook        |\n",
    "| RStudio                 |\n",
    "| Apache Zeppelin         |"
   ]
  },
  {
   "cell_type": "markdown",
   "id": "9140b4d0-8913-4767-9b23-414be30b8676",
   "metadata": {},
   "source": [
    "### Below are a few examples of evaluating arthimetic expression in python"
   ]
  },
  {
   "cell_type": "code",
   "execution_count": 9,
   "id": "753fed60-1101-4721-9d66-36386128dbe1",
   "metadata": {},
   "outputs": [
    {
     "data": {
      "text/plain": [
       "17"
      ]
     },
     "execution_count": 9,
     "metadata": {},
     "output_type": "execute_result"
    }
   ],
   "source": [
    "# This is a simple arthimetic expression of multiplication and then addition of integer\n",
    "(3*4)+5"
   ]
  },
  {
   "cell_type": "code",
   "execution_count": 21,
   "id": "0a28fb97-3faf-4342-8b04-85a7c41410aa",
   "metadata": {},
   "outputs": [
    {
     "name": "stdout",
     "output_type": "stream",
     "text": [
      "3.3333333333333335\n"
     ]
    }
   ],
   "source": [
    "# This will convert 200 minutes into hours by dividing by 60\n",
    "x=200\n",
    "y=60\n",
    "z=x/y\n",
    "print(z)\n"
   ]
  },
  {
   "cell_type": "markdown",
   "id": "9b5537ba-e940-4e2c-b78d-5cc97f2e9af3",
   "metadata": {},
   "source": [
    "## Author\n",
    " Muhammad Hamza"
   ]
  }
 ],
 "metadata": {
  "kernelspec": {
   "display_name": "Python [conda env:base] *",
   "language": "python",
   "name": "conda-base-py"
  },
  "language_info": {
   "codemirror_mode": {
    "name": "ipython",
    "version": 3
   },
   "file_extension": ".py",
   "mimetype": "text/x-python",
   "name": "python",
   "nbconvert_exporter": "python",
   "pygments_lexer": "ipython3",
   "version": "3.12.7"
  }
 },
 "nbformat": 4,
 "nbformat_minor": 5
}
